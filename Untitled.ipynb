{
 "cells": [
  {
   "cell_type": "code",
   "execution_count": 4,
   "id": "214c05ba-4698-478f-8c24-5f62287725bb",
   "metadata": {},
   "outputs": [],
   "source": [
    "import sqlalchemy"
   ]
  },
  {
   "cell_type": "code",
   "execution_count": 7,
   "id": "b8e8be08",
   "metadata": {},
   "outputs": [
    {
     "name": "stdout",
     "output_type": "stream",
     "text": [
      "Collecting pymysql\n",
      "  Using cached PyMySQL-1.1.1-py3-none-any.whl (44 kB)\n",
      "Installing collected packages: pymysql\n",
      "Successfully installed pymysql-1.1.1\n",
      "\n",
      "\u001b[1m[\u001b[0m\u001b[34;49mnotice\u001b[0m\u001b[1;39;49m]\u001b[0m\u001b[39;49m A new release of pip available: \u001b[0m\u001b[31;49m22.2.2\u001b[0m\u001b[39;49m -> \u001b[0m\u001b[32;49m24.0\u001b[0m\n",
      "\u001b[1m[\u001b[0m\u001b[34;49mnotice\u001b[0m\u001b[1;39;49m]\u001b[0m\u001b[39;49m To update, run: \u001b[0m\u001b[32;49mpip install --upgrade pip\u001b[0m\n"
     ]
    }
   ],
   "source": [
    "!pip install pymysql"
   ]
  },
  {
   "cell_type": "code",
   "execution_count": 5,
   "id": "28ff8186-d96f-46f3-8c0a-fd01893771f1",
   "metadata": {},
   "outputs": [
    {
     "data": {
      "text/plain": [
       "'2.0.30'"
      ]
     },
     "execution_count": 5,
     "metadata": {},
     "output_type": "execute_result"
    }
   ],
   "source": [
    "sqlalchemy.__version__"
   ]
  },
  {
   "cell_type": "code",
   "execution_count": 8,
   "id": "d2f3d9b0-aa5e-4070-a860-689536273ccd",
   "metadata": {},
   "outputs": [],
   "source": [
    "from sqlalchemy import create_engine\n",
    "from sqlalchemy.sql import text\n",
    "\n",
    "# 데이터베이스 URL 설정\n",
    "username = 'root'\n",
    "password = 'secret'\n",
    "host = 'localhost'\n",
    "database = 'mysql'\n",
    "\n",
    "DATABASE_URL = f'mysql+pymysql://{username}:{password}@{host}/{database}'\n",
    "\n",
    "# 엔진 생성\n",
    "engine = create_engine(DATABASE_URL)\n",
    "conn = engine.connect()"
   ]
  },
  {
   "cell_type": "code",
   "execution_count": 11,
   "id": "5424ff35",
   "metadata": {},
   "outputs": [
    {
     "data": {
      "text/plain": [
       "<sqlalchemy.engine.cursor.CursorResult at 0x107709960>"
      ]
     },
     "execution_count": 11,
     "metadata": {},
     "output_type": "execute_result"
    }
   ],
   "source": [
    "res = conn.execute(text(\"show databases;\"))\n",
    "res"
   ]
  },
  {
   "cell_type": "code",
   "execution_count": 12,
   "id": "daad5594",
   "metadata": {},
   "outputs": [
    {
     "data": {
      "text/plain": [
       "[('bringittennis',),\n",
       " ('information_schema',),\n",
       " ('mm',),\n",
       " ('mysql',),\n",
       " ('performance_schema',),\n",
       " ('somegimi',),\n",
       " ('sys',)]"
      ]
     },
     "execution_count": 12,
     "metadata": {},
     "output_type": "execute_result"
    }
   ],
   "source": [
    "list(res)"
   ]
  },
  {
   "cell_type": "code",
   "execution_count": 9,
   "id": "ccecdb69-b38a-4275-93dc-4fcdcb714220",
   "metadata": {},
   "outputs": [
    {
     "data": {
      "text/plain": [
       "<sqlalchemy.engine.cursor.CursorResult at 0x107709420>"
      ]
     },
     "execution_count": 9,
     "metadata": {},
     "output_type": "execute_result"
    }
   ],
   "source": [
    "res = conn.execute(text(\"show tables;\"))\n",
    "res"
   ]
  },
  {
   "cell_type": "code",
   "execution_count": 10,
   "id": "db05779f-df4b-440c-8a87-f9259de9d08f",
   "metadata": {},
   "outputs": [
    {
     "data": {
      "text/plain": [
       "[('columns_priv',),\n",
       " ('component',),\n",
       " ('db',),\n",
       " ('default_roles',),\n",
       " ('engine_cost',),\n",
       " ('func',),\n",
       " ('general_log',),\n",
       " ('global_grants',),\n",
       " ('gtid_executed',),\n",
       " ('help_category',),\n",
       " ('help_keyword',),\n",
       " ('help_relation',),\n",
       " ('help_topic',),\n",
       " ('innodb_index_stats',),\n",
       " ('innodb_table_stats',),\n",
       " ('password_history',),\n",
       " ('plugin',),\n",
       " ('procs_priv',),\n",
       " ('proxies_priv',),\n",
       " ('replication_asynchronous_connection_failover',),\n",
       " ('replication_asynchronous_connection_failover_managed',),\n",
       " ('replication_group_configuration_version',),\n",
       " ('replication_group_member_actions',),\n",
       " ('role_edges',),\n",
       " ('server_cost',),\n",
       " ('servers',),\n",
       " ('slave_master_info',),\n",
       " ('slave_relay_log_info',),\n",
       " ('slave_worker_info',),\n",
       " ('slow_log',),\n",
       " ('tables_priv',),\n",
       " ('time_zone',),\n",
       " ('time_zone_leap_second',),\n",
       " ('time_zone_name',),\n",
       " ('time_zone_transition',),\n",
       " ('time_zone_transition_type',),\n",
       " ('user',)]"
      ]
     },
     "execution_count": 10,
     "metadata": {},
     "output_type": "execute_result"
    }
   ],
   "source": [
    "list(res)"
   ]
  },
  {
   "cell_type": "code",
   "execution_count": null,
   "id": "a8ff3450-8e6d-4732-9513-80c243eca14c",
   "metadata": {},
   "outputs": [],
   "source": []
  }
 ],
 "metadata": {
  "kernelspec": {
   "display_name": "Python 3 (ipykernel)",
   "language": "python",
   "name": "python3"
  },
  "language_info": {
   "codemirror_mode": {
    "name": "ipython",
    "version": 3
   },
   "file_extension": ".py",
   "mimetype": "text/x-python",
   "name": "python",
   "nbconvert_exporter": "python",
   "pygments_lexer": "ipython3",
   "version": "3.10.13"
  }
 },
 "nbformat": 4,
 "nbformat_minor": 5
}
